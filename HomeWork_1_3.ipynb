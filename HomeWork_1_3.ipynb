{
  "nbformat": 4,
  "nbformat_minor": 0,
  "metadata": {
    "colab": {
      "provenance": [],
      "authorship_tag": "ABX9TyMGct3WNuzIqtU66PUMP35U"
    },
    "kernelspec": {
      "name": "python3",
      "display_name": "Python 3"
    },
    "language_info": {
      "name": "python"
    }
  },
  "cells": [
    {
      "cell_type": "markdown",
      "source": [
        "1. Парсинг hh.ru"
      ],
      "metadata": {
        "id": "lH_uEIwkqUVJ"
      }
    },
    {
      "cell_type": "code",
      "source": [
        "from IPython.display import HTML, display\n",
        "import requests\n",
        "import time\n",
        "from bs4 import BeautifulSoup\n",
        "import json\n",
        "import tqdm\n",
        "from google.colab import files\n",
        "\n",
        "# для многострочного вывода текста в collab\n",
        "# было нужно для удобства отладки на первых этапах\n",
        "def set_css():\n",
        "  display(HTML('''\n",
        "  <style>\n",
        "    pre {\n",
        "        white-space: pre-wrap;\n",
        "    }\n",
        "  </style>\n",
        "  '''))\n",
        "get_ipython().events.register('pre_run_cell', set_css)\n",
        "\n",
        "# подменяем заголовок\n",
        "headers = {\n",
        "    'authority': 'hh.ru',\n",
        "    'accept': 'text/html,application/xhtml+xml,application/xml;q=0.9,image/avif,image/webp,image/apng,*/*;q=0.8,application/signed-exchange;v=b3;q=0.9',\n",
        "    'accept-language': 'ru-RU,ru;q=0.9,en-US;q=0.8,en;q=0.7',\n",
        "    'cache-control': 'max-age=0',    \n",
        "    'sec-ch-ua': '\"Google Chrome\";v=\"105\", \"Not)A;Brand\";v=\"8\", \"Chromium\";v=\"105\"',\n",
        "    'sec-ch-ua-mobile': '?1',\n",
        "    'sec-ch-ua-platform': '\"Android\"',\n",
        "    'sec-fetch-dest': 'document',\n",
        "    'sec-fetch-mode': 'navigate',\n",
        "    'sec-fetch-site': 'none',\n",
        "    'sec-fetch-user': '?1',\n",
        "    'upgrade-insecure-requests': '1',\n",
        "    'user-agent': 'Mozilla/5.0 (Linux; Android 6.0; Nexus 5 Build/MRA58N) AppleWebKit/537.36 (KHTML, like Gecko) Chrome/105.0.0.0 Mobile Safari/537.36',\n",
        "}\n",
        "\n",
        "# парамеры поиска\n",
        "params = {\n",
        "    'experience': 'between1And3',\n",
        "    'schedule': 'fullDay',    \n",
        "    'text': 'python разработчик',\n",
        "    'no_magic': 'true',  \n",
        "    'page': '0',\n",
        "    'items_on_page': '20',\n",
        "}\n",
        "\n",
        "# список дополнительных параметров поиска для обхода ограничения hh на выдачу не более 2000 вакансий за раз\n",
        "# при необходимости можно дополнить ещё парой списков и перебирать и по ним тоже\n",
        "exp_list = ['noExperience', 'between1And3', 'between3And6', 'moreThan6']\n",
        "sched_list = ['fullDay', 'remote', 'flexible', 'shift']\n",
        "# просто чтобы не делать два цикла\n",
        "iter_list = [[l1, l2] for l1 in exp_list for l2 in sched_list]\n",
        "\n",
        "# переменная для сохрания результата\n",
        "data = {\n",
        "    'data':[]\n",
        "}\n",
        "\n",
        "\n",
        "for exp_val, sched_val in tqdm.tqdm(iter_list):\n",
        "  params['experience'] = exp_val  \n",
        "  params['schedule'] = sched_val\n",
        "  # перебираем с 0 до 99 страницы\n",
        "  for page in range(0, 100):\n",
        "    params['page'] = str(page)\n",
        "    # запрос для первичного поиска\n",
        "    with requests.get('https://hh.ru/search/vacancy', params=params, headers=headers) as r:      \n",
        "      root_data = BeautifulSoup(r.content, 'lxml')\n",
        "      vacancies = root_data.find_all('div', attrs={\"class\":\"vacancy-serp-item-body__main-info\"})\n",
        "      # проверяем не пустой ли список вакансий. он может быть пустым, если вакансий меньше чем максимальное количество страниц\n",
        "      if vacancies:\n",
        "        for vacancy in vacancies:\n",
        "          title = vacancy.find('a', attrs={'class':'serp-item__title'})\n",
        "          href = title['href']\n",
        "          address = vacancy.find('div',  attrs={'data-qa':'vacancy-serp__vacancy-address'})\n",
        "          # регион идёт в начале адреса, потом может идти доп. информация о станциях метро и пр.\n",
        "          region = [i for i in address.strings][0]\n",
        "          salary = vacancy.find('span',  attrs={'data-qa':'vacancy-serp__vacancy-compensation'})        \n",
        "          if salary:\n",
        "            # убираем неразрыный пробел. он в общем, не мешает, но некрасиво показывается в текстовых редакторах\n",
        "            salary = salary.text.replace('\\u202f', '')\n",
        "          \n",
        "          # ждём немного, чтобы нас не забанили за ddos\n",
        "          time.sleep(0.5)\n",
        "          # открываем вакансию по ссылке. внутри нам нужна информация о стаже\n",
        "          with requests.get(href, headers=headers) as v:\n",
        "            vacancy_data = BeautifulSoup(v.content, 'lxml')\n",
        "            experience = vacancy_data.find('span', attrs={'data-qa':'vacancy-experience'})\n",
        "            data['data'].append({'title':title.string if title else None, 'work experience':experience.string if experience else None, 'salary':salary, 'region':region})            \n",
        "      # если не нашли вакансий на странице, то значит прерываем текущую итерацию\n",
        "      else:\n",
        "        break                \n",
        "  \n",
        "  \n",
        "\n",
        "with open('data.json', 'w') as f:\n",
        "  json.dump(data, f, ensure_ascii=False)\n",
        "\n",
        "files.download('data.json')"
      ],
      "metadata": {
        "id": "lqBNH7-XqVt2"
      },
      "execution_count": null,
      "outputs": []
    },
    {
      "cell_type": "markdown",
      "source": [
        "2. Палиндром строки"
      ],
      "metadata": {
        "id": "2jSgFihYWSrJ"
      }
    },
    {
      "cell_type": "code",
      "source": [
        "s = str(input('Введите строку ')).replace(' ', '')\n",
        "print(s == s[::-1])"
      ],
      "metadata": {
        "colab": {
          "base_uri": "https://localhost:8080/"
        },
        "id": "s1zqxP20Wdrt",
        "outputId": "d1cc2597-b0cd-4a14-804b-57db32a32bab"
      },
      "execution_count": 5,
      "outputs": [
        {
          "output_type": "stream",
          "name": "stdout",
          "text": [
            "Введите строку black cat\n",
            "tackcalb\n",
            "False\n"
          ]
        }
      ]
    },
    {
      "cell_type": "markdown",
      "source": [
        "3. Перевод арабского числа в римское"
      ],
      "metadata": {
        "id": "UDmJU9JBXZtg"
      }
    },
    {
      "cell_type": "code",
      "source": [
        "def arabic_to_roman(n):\n",
        "  digits = {1000:'M', 900:'CM', 500:'D', 400:'CD', 100:'C', 90:'XC', 50:'L', 40:'XL', 10:'X', 9:'IX', 5:'V', 4:'IV', 1:'I'}\n",
        "  result = ''\n",
        "  for arabic, roman in digits.items():\n",
        "    result += n // arabic * roman\n",
        "    n %= arabic        \n",
        "  return result\n",
        "\n",
        "print(arabic_to_roman(int(input())))"
      ],
      "metadata": {
        "colab": {
          "base_uri": "https://localhost:8080/"
        },
        "id": "Bnz6M6FTXcrz",
        "outputId": "d4c2f46b-75e1-49cc-a9da-494255243a00"
      },
      "execution_count": 27,
      "outputs": [
        {
          "output_type": "stream",
          "name": "stdout",
          "text": [
            "113\n",
            "CXIII\n"
          ]
        }
      ]
    },
    {
      "cell_type": "markdown",
      "source": [
        "4. Валидность скобок"
      ],
      "metadata": {
        "id": "2QTfc7ZAbGeq"
      }
    },
    {
      "cell_type": "code",
      "source": [
        "def check_brackets(s):\n",
        "  # допускается использование любых сиволов помимо скобок, \n",
        "  # легко дополнить \"словарь\" скобок, добавив новые элементы в b_open и b_close\n",
        "  b_open = ('(', '[', '{')\n",
        "  b_close = (')', ']', '}')\n",
        "  stack = []\n",
        "  for char in s:\n",
        "    if char in b_open:\n",
        "      stack.append(char)\n",
        "    elif char in b_close:\n",
        "      open_char = b_open[b_close.index(char)]\n",
        "      if len(stack) > 0 and open_char == stack[-1]:\n",
        "        stack.pop(-1)\n",
        "      else:\n",
        "        return False\n",
        "  if len(stack) == 0:\n",
        "    return True\n",
        "  else: \n",
        "    return False\n",
        "\n",
        "print(check_brackets(str(input())))"
      ],
      "metadata": {
        "colab": {
          "base_uri": "https://localhost:8080/"
        },
        "id": "zzPgVVm5bKvr",
        "outputId": "ef49cdbf-ff09-47bb-d2f8-129878a4d19e"
      },
      "execution_count": 28,
      "outputs": [
        {
          "output_type": "stream",
          "name": "stdout",
          "text": [
            "[1{2}3(4{}443)3]\n",
            "True\n"
          ]
        }
      ]
    },
    {
      "cell_type": "markdown",
      "source": [
        "5. Умножить два бинарных числа в формате строк"
      ],
      "metadata": {
        "id": "CMZHdLATotRE"
      }
    },
    {
      "cell_type": "code",
      "source": [
        "# В условии задачи не задано ограничение на использование преобразования типов и побитовых операций\n",
        "# Поэтому не будем умножать в столбик\n",
        "\n",
        "x1 = str(input())\n",
        "x2 = str(input())\n",
        " \n",
        "x1 = int(x1, 2)\n",
        "x2 = int(x2, 2)\n",
        " \n",
        "x = x1 * x2\n",
        "\n",
        "# используем срез, чтобы убрать 0b в начале строки\n",
        "print(str(bin(x))[2:])"
      ],
      "metadata": {
        "colab": {
          "base_uri": "https://localhost:8080/"
        },
        "id": "iGZAZy3moxWS",
        "outputId": "b1566335-2508-4891-df05-7de4f5008e87"
      },
      "execution_count": 31,
      "outputs": [
        {
          "output_type": "stream",
          "name": "stdout",
          "text": [
            "111\n",
            "101\n",
            "100011\n"
          ]
        }
      ]
    }
  ]
}